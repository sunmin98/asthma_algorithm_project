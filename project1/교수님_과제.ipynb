{
 "cells": [
  {
   "cell_type": "code",
   "execution_count": null,
   "outputs": [],
   "source": [],
   "metadata": {
    "collapsed": false,
    "pycharm": {
     "name": "#%%\n"
    }
   }
  },
  {
   "cell_type": "code",
   "execution_count": 5,
   "metadata": {
    "collapsed": true
   },
   "outputs": [],
   "source": [
    "Check_symptom_frequency = int(input(\"얼마나 자주 천식 증상이 있었나요? [0. 전혀 그렇지 않았다. ~ 6. 항상 그랬다.]\"))\n",
    "Check_unwellness = int(input(\"천식 증상으로 인하여 얼마나 불편하셨나요? [0. 전혀 그렇지 않았다. ~ 6. 심하게 그랬다.]\"))\n",
    "Check_activity_severity = int(input(\"활동은 어떠셨나요? [0. 평소보다 잘했다. ~ 6. 평소보다 못했다.]\"))\n",
    "Check_activity_difficulty = int(input(\"천식으로 인하여 자주 활동하는데 지장을 받았나요?\"))\n",
    "Check_sleep_discoder = int(input(\"천식으로 인하여 어제 밤에 잠을 깨거나 오늘 아침에 평소보다 일찍 일어났나요? [0 ~ 3]\"))"
   ]
  },
  {
   "cell_type": "code",
   "execution_count": 6,
   "outputs": [
    {
     "name": "stdout",
     "output_type": "stream",
     "text": [
      "7.7\n"
     ]
    }
   ],
   "source": [
    "Check_lists = [Check_symptom_frequency * 0.2, Check_unwellness * 0.2, Check_activity_severity * 0.5,\n",
    "               Check_activity_difficulty * 0.2, Check_sleep_discoder * 1.5]\n",
    "Check_lists_sum = sum(Check_lists)\n",
    "print(Check_lists_sum)"
   ],
   "metadata": {
    "collapsed": false,
    "pycharm": {
     "name": "#%%\n"
    }
   }
  },
  {
   "cell_type": "code",
   "execution_count": 7,
   "outputs": [
    {
     "name": "stdout",
     "output_type": "stream",
     "text": [
      "5.0\n"
     ]
    }
   ],
   "source": [
    "average_last_2weeks = 5\n",
    "\n",
    "if average_last_2weeks < Check_lists_sum:\n",
    "\n",
    "    flow_am = float(input(\"오전 최대호기유속 입력\"))\n",
    "    flow_pm = float(input(\"오후 최대호기유속 입력\"))\n",
    "    peak_flow_sum = flow_am + flow_pm\n",
    "\n",
    "else:\n",
    "    print(\"신체에 이상 없음.\")\n",
    "\n",
    "print(peak_flow_sum)\n"
   ],
   "metadata": {
    "collapsed": false,
    "pycharm": {
     "name": "#%%\n"
    }
   }
  },
  {
   "cell_type": "code",
   "execution_count": 8,
   "outputs": [
    {
     "name": "stdout",
     "output_type": "stream",
     "text": [
      "신체적 문제\n"
     ]
    }
   ],
   "source": [
    "average_last_1weeks = 4\n",
    "\n",
    "if average_last_1weeks < peak_flow_sum:\n",
    "    print(\"신체적 문제\")\n",
    "\n",
    "else:\n",
    "    print(\"정신적 문제\")\n"
   ],
   "metadata": {
    "collapsed": false,
    "pycharm": {
     "name": "#%%\n"
    }
   }
  },
  {
   "cell_type": "markdown",
   "source": [
    "////////////////////////////////////////////////////////////////////////////////////////////////////////////////"
   ],
   "metadata": {
    "collapsed": false
   }
  },
  {
   "cell_type": "code",
   "execution_count": 23,
   "outputs": [
    {
     "name": "stdout",
     "output_type": "stream",
     "text": [
      "신체적 문제\n",
      "=====================\n",
      "신체적 문제\n",
      "=====================\n",
      "신체적 문제\n",
      "=====================\n",
      "신체적 문제\n",
      "=====================\n",
      "신체적 문제\n",
      "=====================\n"
     ]
    }
   ],
   "source": [
    "import csv\n",
    "\n",
    "with open('dumi_data.csv', 'r', encoding='utf-8-sig') as f:\n",
    "    reader = csv.reader(f)\n",
    "\n",
    "    for row in reader:\n",
    "        # print(row)\n",
    "        Check_lists = [float(row[0]) * 0.2, float(row[1]) * 0.2, float(row[2]) * 0.5,\n",
    "                   float(row[3]) * 0.2, float(row[4]) * 1.5]\n",
    "        # print(Check_lists)\n",
    "        Check_lists_sum = sum(Check_lists)\n",
    "        average_last_2weeks = 0\n",
    "\n",
    "        if average_last_2weeks < Check_lists_sum:\n",
    "\n",
    "            peak_flow_sum = row[5] + row[6]\n",
    "\n",
    "        else:\n",
    "            print(\"신체에 이상 없음.\")\n",
    "            print('=====================')\n",
    "            continue\n",
    "\n",
    "        # print(\"peak_flow_sum    \" + peak_flow_sum)\n",
    "\n",
    "        average_last_1weeks = 4\n",
    "\n",
    "        if average_last_1weeks < int(peak_flow_sum):\n",
    "            print(\"신체적 문제\")\n",
    "            print('=====================')\n",
    "            continue\n",
    "\n",
    "        else:\n",
    "            print(\"정신적 문제\")\n",
    "            print('=====================')\n",
    "            continue\n",
    "\n"
   ],
   "metadata": {
    "collapsed": false,
    "pycharm": {
     "name": "#%%\n"
    }
   }
  },
  {
   "cell_type": "code",
   "execution_count": null,
   "outputs": [],
   "source": [],
   "metadata": {
    "collapsed": false,
    "pycharm": {
     "name": "#%%\n"
    }
   }
  }
 ],
 "metadata": {
  "kernelspec": {
   "display_name": "Python 3",
   "language": "python",
   "name": "python3"
  },
  "language_info": {
   "codemirror_mode": {
    "name": "ipython",
    "version": 2
   },
   "file_extension": ".py",
   "mimetype": "text/x-python",
   "name": "python",
   "nbconvert_exporter": "python",
   "pygments_lexer": "ipython2",
   "version": "2.7.6"
  }
 },
 "nbformat": 4,
 "nbformat_minor": 0
}